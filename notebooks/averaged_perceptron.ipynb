{
 "cells": [
  {
   "cell_type": "code",
   "execution_count": 1,
   "id": "c001847a-ce0d-455a-8265-2e2bd1d27cd6",
   "metadata": {},
   "outputs": [],
   "source": [
    "import sys\n",
    "\n",
    "sys.path.append(\"..\")"
   ]
  },
  {
   "cell_type": "code",
   "execution_count": 2,
   "id": "59cb0ffd-1967-4070-a03d-ab826d31b4b6",
   "metadata": {},
   "outputs": [],
   "source": [
    "import random\n",
    "\n",
    "from sklearn.model_selection import train_test_split\n",
    "\n",
    "from train.training_utils import load_datasets, evaluate"
   ]
  },
  {
   "cell_type": "code",
   "execution_count": 3,
   "id": "9a05ac70-34c0-40e2-b6d7-d723a394e6cd",
   "metadata": {},
   "outputs": [
    {
     "name": "stdout",
     "output_type": "stream",
     "text": [
      "[INFO] Loading and transforming training data.\n",
      "[INFO] 59,933 usable vectors.\n",
      "[INFO] 67 discarded due to OTHER labels.\n"
     ]
    }
   ],
   "source": [
    "vectors = load_datasets(\n",
    "    \"../../ingredient-parser/train/data/training.sqlite3\",\n",
    "    \"en\",\n",
    "    [\"bbc\", \"cookstr\", \"nyt\"],\n",
    ")\n",
    "(\n",
    "    sentences_train,\n",
    "    sentences_test,\n",
    "    features_train,\n",
    "    features_test,\n",
    "    truth_train,\n",
    "    truth_test,\n",
    "    source_train,\n",
    "    source_test,\n",
    ") = train_test_split(\n",
    "    vectors.sentences,\n",
    "    vectors.features,\n",
    "    vectors.labels,\n",
    "    vectors.source,\n",
    "    test_size=0.2,\n",
    "    random_state=165846843,\n",
    "    stratify=vectors.source,\n",
    ")"
   ]
  },
  {
   "cell_type": "code",
   "execution_count": 4,
   "id": "5b73f70f-9adf-43ea-8543-e3d3ae6371ab",
   "metadata": {},
   "outputs": [],
   "source": [
    "from ap.ingredient_tagger import IngredientTagger"
   ]
  },
  {
   "cell_type": "code",
   "execution_count": 5,
   "id": "1132fb94-195c-448a-a09d-097c8ede256f",
   "metadata": {},
   "outputs": [],
   "source": [
    "tagger = IngredientTagger()\n",
    "tagger.model.labels = {\n",
    "    \"QTY\",\n",
    "    \"UNIT\",\n",
    "    \"NAME\",\n",
    "    \"PREP\",\n",
    "    \"COMMENT\",\n",
    "    \"PURPOSE\",\n",
    "    \"PUNC\",\n",
    "    \"SIZE\",\n",
    "}"
   ]
  },
  {
   "cell_type": "code",
   "execution_count": 6,
   "id": "2f9f8fb9-f86e-4a1e-b7be-a94926760237",
   "metadata": {},
   "outputs": [
    {
     "name": "stdout",
     "output_type": "stream",
     "text": [
      "Iter 0: 95.7%\n",
      "Iter 1: 96.9%\n",
      "Iter 2: 97.2%\n",
      "Iter 3: 97.5%\n",
      "Iter 4: 97.6%\n",
      "Iter 5: 97.7%\n",
      "Iter 6: 97.8%\n",
      "Iter 7: 97.9%\n",
      "Iter 8: 97.9%\n",
      "Iter 9: 98.0%\n",
      "CPU times: user 1min 8s, sys: 78.3 ms, total: 1min 8s\n",
      "Wall time: 1min 8s\n"
     ]
    }
   ],
   "source": [
    "%%time\n",
    "random.seed(4564138)\n",
    "tagger.train(features_train, truth_train)"
   ]
  },
  {
   "cell_type": "code",
   "execution_count": 7,
   "id": "8ae71376-c7d2-408d-b127-236089d67327",
   "metadata": {},
   "outputs": [
    {
     "name": "stdout",
     "output_type": "stream",
     "text": [
      "Sentence-level results:\n",
      "\tAccuracy: 93.58%\n",
      "\n",
      "Word-level results:\n",
      "\tAccuracy 97.63%\n",
      "\tPrecision (micro) 97.65%\n",
      "\tRecall (micro) 97.63%\n",
      "\tF1 score (micro) 97.64%\n"
     ]
    }
   ],
   "source": [
    "predicted_labels = [\n",
    "    tagger.tag_from_features(feats) for feats in features_test\n",
    "]\n",
    "\n",
    "stats = evaluate(truth_test, predicted_labels)\n",
    "print(\"Sentence-level results:\")\n",
    "print(f\"\\tAccuracy: {100*stats.sentence.accuracy:.2f}%\")\n",
    "\n",
    "print()\n",
    "print(\"Word-level results:\")\n",
    "print(f\"\\tAccuracy {100*stats.token.accuracy:.2f}%\")\n",
    "print(f\"\\tPrecision (micro) {100*stats.token.weighted_avg.precision:.2f}%\")\n",
    "print(f\"\\tRecall (micro) {100*stats.token.weighted_avg.recall:.2f}%\")\n",
    "print(f\"\\tF1 score (micro) {100*stats.token.weighted_avg.f1_score:.2f}%\")"
   ]
  },
  {
   "cell_type": "code",
   "execution_count": null,
   "id": "ec1011b9-a7e6-49b9-b98c-d3c9b6e6b158",
   "metadata": {},
   "outputs": [],
   "source": []
  }
 ],
 "metadata": {
  "kernelspec": {
   "display_name": "Python 3 (ipykernel)",
   "language": "python",
   "name": "python3"
  },
  "language_info": {
   "codemirror_mode": {
    "name": "ipython",
    "version": 3
   },
   "file_extension": ".py",
   "mimetype": "text/x-python",
   "name": "python",
   "nbconvert_exporter": "python",
   "pygments_lexer": "ipython3",
   "version": "3.12.3"
  }
 },
 "nbformat": 4,
 "nbformat_minor": 5
}
